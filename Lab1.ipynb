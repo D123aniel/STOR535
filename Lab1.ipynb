{
 "cells": [
  {
   "cell_type": "markdown",
   "id": "3174c61e",
   "metadata": {},
   "source": [
    "# STOR 535: Lab1\n",
    "### Submit the PDF version of this homework to gradescope by Feb 4"
   ]
  },
  {
   "cell_type": "code",
   "execution_count": null,
   "id": "44cd12cd",
   "metadata": {},
   "outputs": [],
   "source": [
    "import numpy as np\n",
    "import random\n",
    "import math\n",
    "import matplotlib.pyplot as plt"
   ]
  },
  {
   "cell_type": "markdown",
   "id": "f9814c18",
   "metadata": {},
   "source": [
    "### Problem 1 (50 points)\n",
    "\n",
    "\n",
    "- 1.1  Use NumPy  to create a list (e.g., flips) representing one sequence of 100 coin flips.\n",
    "\n",
    "Print out this sequence so you can observe the random pattern of heads ('H') and tails ('T').\n",
    "\n",
    "Set random seed as 1."
   ]
  },
  {
   "cell_type": "code",
   "execution_count": null,
   "id": "8bc11540",
   "metadata": {},
   "outputs": [],
   "source": []
  },
  {
   "cell_type": "markdown",
   "id": "e0d445f0",
   "metadata": {},
   "source": [
    "- 1.2 \n",
    "\n",
    "Using the single sequence generated in Part A, check if there is a streak (run) of 5 or more consecutive heads or 5 or more consecutive tails.\n",
    "Print a statement indicating whether or not such a streak was found in that sequence."
   ]
  },
  {
   "cell_type": "code",
   "execution_count": null,
   "id": "495db960",
   "metadata": {},
   "outputs": [],
   "source": []
  },
  {
   "cell_type": "markdown",
   "id": "89d0c3d1",
   "metadata": {},
   "source": [
    "- 1.3\n",
    "Estimate the probability of seeing at least one run of 5 identical outcomes in 100 flips by running 10,000 simulations:\n",
    "\n",
    "For each simulation, generate 100 coin flips and check for a run of 5 or more consecutive heads or tails.\n",
    "Count how many trials contain at least one run of length 5 or more.\n",
    "\n",
    "Calculate the fraction of those trials. That fraction is your empirical probability estimate."
   ]
  },
  {
   "cell_type": "code",
   "execution_count": null,
   "id": "b65a11a4",
   "metadata": {},
   "outputs": [],
   "source": []
  },
  {
   "cell_type": "markdown",
   "id": "4ab78598",
   "metadata": {},
   "source": [
    "- 1.4\n",
    "\n",
    "Report the probability you found in Part 1.3. Is it larger than 95% or smaller than 95%?"
   ]
  },
  {
   "cell_type": "code",
   "execution_count": null,
   "id": "24639231",
   "metadata": {},
   "outputs": [],
   "source": []
  },
  {
   "cell_type": "markdown",
   "id": "c397c218",
   "metadata": {},
   "source": [
    "- 1.5 Modify the number of coin flips per trial from 100 to an integer 𝑘. Create a line plot to visualize how the probability changes as 𝑘 varies between 10 and 100.\n",
    "\n",
    "x-axis represents the value of 𝑘, 𝑘=10,11,12,...,100.\n",
    "\n",
    "\n",
    "y-axis represents the fraction of trials (out of 10,000 simulations) where at least 5 consecutive Heads or Tails occur.\n",
    "\n",
    "Describe your observations from this plot."
   ]
  },
  {
   "cell_type": "code",
   "execution_count": null,
   "id": "5e3f2df2",
   "metadata": {},
   "outputs": [],
   "source": []
  },
  {
   "cell_type": "markdown",
   "id": "04659d97",
   "metadata": {},
   "source": [
    "## Problem 2 (20 points)"
   ]
  },
  {
   "cell_type": "markdown",
   "id": "1604617e",
   "metadata": {},
   "source": [
    "A “norepeatword” is a sequence of at least one (and possibly all) of the usual 26 letters a,b,c,. . . ,z, with repetitions not allowed. For example, “course” is a norepeatword, but “statistics” is not. Order matters, e.g., “course” is not the same as “source”.\n",
    "\n",
    "\n",
    "Let $k$ represent the length of the norepeatword."
   ]
  },
  {
   "cell_type": "markdown",
   "id": "a2d7ebfe",
   "metadata": {},
   "source": [
    "- 2.1 For a fixed length fixed length $k=10$, use python to calculate how many norepeatwords are there?"
   ]
  },
  {
   "cell_type": "markdown",
   "id": "aeb26df7",
   "metadata": {},
   "source": [
    "- 2.2 What is the maximum value of $k$?"
   ]
  },
  {
   "cell_type": "markdown",
   "id": "f4fea151",
   "metadata": {},
   "source": [
    "- 2.3 Calculate the total number of norepeatwords for all possible values of $k$."
   ]
  },
  {
   "cell_type": "markdown",
   "id": "c3f960d5",
   "metadata": {},
   "source": [
    "- 2.4 Suppose that a norepeatword is chosen randomly, with all norepeatwords equally likely, i.e., we choose one norepeatword among all norepeatwords “with equal likelihood.” Calculate the probability that the chosen norepeatword has length 26 and uses every letter."
   ]
  },
  {
   "cell_type": "markdown",
   "id": "f3f31729",
   "metadata": {},
   "source": [
    "- 2.5 Calculate the value of $1/e$, where constant $e$ represents the base of the natural logarithm. Calculate the difference between the probability in problem `2.4` and $1/e$. What do you observe? \n",
    "\n",
    "\n",
    "Hint: You can use `math.e` to get the value of $e$.  You can refer to Problem 4 on this [webpage](https://projects.iq.harvard.edu/sites/projects.iq.harvard.edu/files/stat110/files/strategic_practice_and_homework_1.pdf)."
   ]
  },
  {
   "cell_type": "code",
   "execution_count": null,
   "id": "fefaae9c",
   "metadata": {},
   "outputs": [],
   "source": []
  },
  {
   "cell_type": "markdown",
   "id": "314972eb",
   "metadata": {},
   "source": [
    "## Problem 3 (15 points)\n",
    "\n",
    "You have a 6-sided die, but it is unbalanced. Instead of each face {1,2,3,4,5,6} having probability $1/6$, the probabilities are `[0.05, 0.1, 0.3, 0.2, 0.05, 0.3]`.\n",
    "\n",
    "\n",
    "- 3.1 Set random seed in numpy as 1, and simulate rolling this unbalanced die 1,000 times. Print out the sequence of these 1000 outcome.\n",
    "- 3.2 Calculate the empirical frequencies of rolling 1,2,3,4,5,6 based on your outcome.\n",
    "\n",
    "- 3.3 Copmare it to the true probability $[0.05, 0.1, 0.3, 0.2, 0.05, 0.3]$. Explain your answers in words."
   ]
  },
  {
   "cell_type": "code",
   "execution_count": null,
   "id": "39a80209",
   "metadata": {},
   "outputs": [],
   "source": []
  },
  {
   "cell_type": "markdown",
   "id": "ffa22c7e",
   "metadata": {},
   "source": [
    "## Problem 4 (15 points)\n",
    "\n",
    "A knock-out tournament is being held with $2^n$ tennis players. This means that for each round, the winners move on to the next round and the losers are eliminated, until only one person remains. For example, if initially there are $2^4$ = 16 players, then there are 8 games in the first round, then the 8 winners move on to round 2, then the 4 winners move on to round 3, then the 2 winners move on to round 4, the winner of which is declared the winner of the tournament. (There are various systems for determining who plays whom within a round, but these do not matter for this problem.) \n",
    "\n",
    "\n",
    "- 4.1 Suppose there are 32 players. You have a 80% probability of winning each game. What is the probability that you become the champion?\n",
    "\n",
    "- 4.2 Repeat Problem 4.1 but now you have 90% probability of winning each game.\n",
    "\n",
    "- 4.3 Create a line plot where the x-axis represents the probability of winning each game and the y-axis represents the probability of becoming the champion."
   ]
  },
  {
   "cell_type": "code",
   "execution_count": null,
   "id": "360b7240",
   "metadata": {},
   "outputs": [],
   "source": []
  },
  {
   "cell_type": "code",
   "execution_count": null,
   "id": "de62dd1c",
   "metadata": {},
   "outputs": [],
   "source": []
  }
 ],
 "metadata": {
  "hide_input": false,
  "kernelspec": {
   "display_name": "Python 3 (ipykernel)",
   "language": "python",
   "name": "python3"
  },
  "language_info": {
   "codemirror_mode": {
    "name": "ipython",
    "version": 3
   },
   "file_extension": ".py",
   "mimetype": "text/x-python",
   "name": "python",
   "nbconvert_exporter": "python",
   "pygments_lexer": "ipython3",
   "version": "3.11.4"
  }
 },
 "nbformat": 4,
 "nbformat_minor": 5
}
