{
 "cells": [
  {
   "cell_type": "markdown",
   "id": "3174c61e",
   "metadata": {},
   "source": [
    "# STOR 535: Lab1\n",
    "### Submit the PDF version of this homework to gradescope by Feb 4"
   ]
  },
  {
   "cell_type": "code",
   "execution_count": 1,
   "id": "44cd12cd",
   "metadata": {},
   "outputs": [],
   "source": [
    "import numpy as np\n",
    "import random\n",
    "import math\n",
    "import matplotlib.pyplot as plt"
   ]
  },
  {
   "cell_type": "markdown",
   "id": "f9814c18",
   "metadata": {},
   "source": [
    "### Problem 1 (50 points)\n",
    "\n",
    "\n",
    "- 1.1  Use NumPy  to create a list (e.g., flips) representing one sequence of 100 coin flips.\n",
    "\n",
    "Print out this sequence so you can observe the random pattern of heads ('H') and tails ('T').\n",
    "\n",
    "Set random seed as 1."
   ]
  },
  {
   "cell_type": "code",
   "execution_count": 2,
   "id": "8bc11540",
   "metadata": {},
   "outputs": [
    {
     "name": "stdout",
     "output_type": "stream",
     "text": [
      "Number of H:  51\n",
      "Number of T:  49\n",
      "['H' 'T' 'H' 'H' 'H' 'H' 'H' 'H' 'H' 'T' 'H' 'T' 'H' 'T' 'H' 'T' 'H' 'T'\n",
      " 'H' 'H' 'T' 'T' 'H' 'T' 'T' 'T' 'H' 'H' 'H' 'T' 'H' 'H' 'T' 'T' 'T' 'H'\n",
      " 'T' 'T' 'H' 'T' 'T' 'T' 'H' 'T' 'H' 'H' 'T' 'H' 'H' 'H' 'H' 'T' 'H' 'H'\n",
      " 'H' 'H' 'T' 'H' 'T' 'T' 'H' 'H' 'T' 'H' 'H' 'T' 'T' 'T' 'T' 'T' 'T' 'H'\n",
      " 'H' 'T' 'H' 'H' 'T' 'H' 'T' 'T' 'T' 'T' 'T' 'H' 'H' 'T' 'H' 'T' 'T' 'T'\n",
      " 'H' 'T' 'H' 'T' 'H' 'H' 'T' 'T' 'H' 'T']\n"
     ]
    }
   ],
   "source": [
    "np.random.seed(1)\n",
    "\n",
    "list_rand = np.random.choice(['H','T'], 100, p = [0.5,0.5])\n",
    "\n",
    "print(\"Number of H: \", np.count_nonzero(list_rand == 'H'))\n",
    "print(\"Number of T: \", np.count_nonzero(list_rand == 'T'))\n",
    "print(list_rand)\n"
   ]
  },
  {
   "cell_type": "markdown",
   "id": "e0d445f0",
   "metadata": {},
   "source": [
    "- 1.2 \n",
    "\n",
    "Using the single sequence generated in Part A, check if there is a streak (run) of 5 or more consecutive heads or 5 or more consecutive tails.\n",
    "Print a statement indicating whether or not such a streak was found in that sequence."
   ]
  },
  {
   "cell_type": "code",
   "execution_count": 3,
   "id": "495db960",
   "metadata": {},
   "outputs": [
    {
     "name": "stdout",
     "output_type": "stream",
     "text": [
      "There is a sequence of 5 consecutive heads\n"
     ]
    }
   ],
   "source": [
    "# check if there is a sequence of 5 or more conseuctive heads\n",
    "for i in range(len(list_rand)):\n",
    "    if i+4 < len(list_rand):\n",
    "        if list_rand[i] == 'H' and list_rand[i+1] == 'H' and list_rand[i+2] == 'H' and list_rand[i+3] == 'H' and list_rand[i+4] == 'H':\n",
    "            print(\"There is a sequence of 5 consecutive heads\")\n",
    "            break\n",
    "        if list_rand[i] == 'T' and list_rand[i+1] == 'T' and list_rand[i+2] == 'T' and list_rand[i+3] == 'T' and list_rand[i+4] == 'T':\n",
    "            print(\"There is a sequence of 5 consecutive tails\")\n",
    "            break"
   ]
  },
  {
   "cell_type": "markdown",
   "id": "89d0c3d1",
   "metadata": {},
   "source": [
    "- 1.3\n",
    "Estimate the probability of seeing at least one run of 5 identical outcomes in 100 flips by running 10,000 simulations:\n",
    "\n",
    "For each simulation, generate 100 coin flips and check for a run of 5 or more consecutive heads or tails.\n",
    "Count how many trials contain at least one run of length 5 or more.\n",
    "\n",
    "Calculate the fraction of those trials. That fraction is your empirical probability estimate."
   ]
  },
  {
   "cell_type": "code",
   "execution_count": 4,
   "id": "b65a11a4",
   "metadata": {},
   "outputs": [
    {
     "name": "stdout",
     "output_type": "stream",
     "text": [
      "9714\n",
      "Probability of at least one run of 5 identical outcomes in 100 flips (10,000 simulations):  0.9714\n"
     ]
    }
   ],
   "source": [
    "n = 10000\n",
    "k = 100\n",
    "def count_consecutive_runs(n,k):\n",
    "    count = 0\n",
    "    for _ in range(n):\n",
    "        list_rand = np.random.choice(['H','T'], k, p = [0.5,0.5])\n",
    "        consecutive_h = 0\n",
    "        consecutive_t = 0\n",
    "        for i in list_rand:\n",
    "            if i == 'H':\n",
    "                consecutive_h += 1\n",
    "                consecutive_t = 0\n",
    "            elif i == 'T':\n",
    "                consecutive_t += 1\n",
    "                consecutive_h = 0\n",
    "            if consecutive_h == 5 or consecutive_t == 5:\n",
    "                count += 1\n",
    "                break\n",
    "    return count\n",
    "\n",
    "num_runs = count_consecutive_runs(n,k)\n",
    "probability = num_runs / n\n",
    "print(num_runs)\n",
    "print(\"Probability of at least one run of 5 identical outcomes in 100 flips (10,000 simulations): \", probability)"
   ]
  },
  {
   "cell_type": "markdown",
   "id": "4ab78598",
   "metadata": {},
   "source": [
    "- 1.4\n",
    "\n",
    "Report the probability you found in Part 1.3. Is it larger than 95% or smaller than 95%?"
   ]
  },
  {
   "cell_type": "markdown",
   "id": "866d9359",
   "metadata": {},
   "source": [
    "The empirical probability found in Part 1.3 was 97.14%, greater than 95%."
   ]
  },
  {
   "cell_type": "markdown",
   "id": "c397c218",
   "metadata": {},
   "source": [
    "- 1.5 Modify the number of coin flips per trial from 100 to an integer 𝑘. Create a line plot to visualize how the probability changes as 𝑘 varies between 10 and 100.\n",
    "\n",
    "x-axis represents the value of 𝑘, 𝑘=10,11,12,...,100.\n",
    "\n",
    "\n",
    "y-axis represents the fraction of trials (out of 10,000 simulations) where at least 5 consecutive Heads or Tails occur.\n",
    "\n",
    "Describe your observations from this plot."
   ]
  },
  {
   "cell_type": "code",
   "execution_count": 5,
   "id": "5e3f2df2",
   "metadata": {},
   "outputs": [],
   "source": [
    "n = 10000\n",
    "k_list = np.arange(10,101)\n",
    "# print(k_list)\n",
    "probability_list = []\n",
    "for k in k_list:\n",
    "    num_runs = count_consecutive_runs(n,k)\n",
    "    probability = num_runs / n\n",
    "    probability_list.append(probability)"
   ]
  },
  {
   "cell_type": "code",
   "execution_count": 6,
   "id": "bf2e7367",
   "metadata": {},
   "outputs": [
    {
     "data": {
      "text/plain": [
       "Text(0, 0.5, 'Probability of at least one run of 5 identical outcomes')"
      ]
     },
     "execution_count": 6,
     "metadata": {},
     "output_type": "execute_result"
    },
    {
     "data": {
      "image/png": "[encoded data removed]",
      "text/plain": [
       "<Figure size 640x480 with 1 Axes>"
      ]
     },
     "metadata": {},
     "output_type": "display_data"
    }
   ],
   "source": [
    "plt.plot(k_list, probability_list)\n",
    "plt.xlabel(\"Number of flips\")\n",
    "plt.ylabel(\"Probability of at least one run of 5 identical outcomes\")"
   ]
  },
  {
   "cell_type": "markdown",
   "id": "04659d97",
   "metadata": {},
   "source": [
    "## Problem 2 (20 points)"
   ]
  },
  {
   "cell_type": "markdown",
   "id": "1604617e",
   "metadata": {},
   "source": [
    "A “norepeatword” is a sequence of at least one (and possibly all) of the usual 26 letters a,b,c,. . . ,z, with repetitions not allowed. For example, “course” is a norepeatword, but “statistics” is not. Order matters, e.g., “course” is not the same as “source”.\n",
    "\n",
    "\n",
    "Let $k$ represent the length of the norepeatword."
   ]
  },
  {
   "cell_type": "markdown",
   "id": "a2d7ebfe",
   "metadata": {},
   "source": [
    "- 2.1 For a fixed length fixed length $k=10$, use python to calculate how many norepeatwords are there?"
   ]
  },
  {
   "cell_type": "markdown",
   "id": "aeb26df7",
   "metadata": {},
   "source": [
    "- 2.2 What is the maximum value of $k$?"
   ]
  },
  {
   "cell_type": "markdown",
   "id": "f4fea151",
   "metadata": {},
   "source": [
    "- 2.3 Calculate the total number of norepeatwords for all possible values of $k$."
   ]
  },
  {
   "cell_type": "markdown",
   "id": "c3f960d5",
   "metadata": {},
   "source": [
    "- 2.4 Suppose that a norepeatword is chosen randomly, with all norepeatwords equally likely, i.e., we choose one norepeatword among all norepeatwords “with equal likelihood.” Calculate the probability that the chosen norepeatword has length 26 and uses every letter."
   ]
  },
  {
   "cell_type": "markdown",
   "id": "f3f31729",
   "metadata": {},
   "source": [
    "- 2.5 Calculate the value of $1/e$, where constant $e$ represents the base of the natural logarithm. Calculate the difference between the probability in problem `2.4` and $1/e$. What do you observe? \n",
    "\n",
    "\n",
    "Hint: You can use `math.e` to get the value of $e$.  You can refer to Problem 4 on this [webpage](https://projects.iq.harvard.edu/sites/projects.iq.harvard.edu/files/stat110/files/strategic_practice_and_homework_1.pdf)."
   ]
  },
  {
   "cell_type": "code",
   "execution_count": 7,
   "id": "fefaae9c",
   "metadata": {},
   "outputs": [
    {
     "name": "stdout",
     "output_type": "stream",
     "text": [
      "For k=10, there are 19275223968000.0 nonrepeatwords\n"
     ]
    }
   ],
   "source": [
    "# 2.1\n",
    "from scipy.special import factorial, comb\n",
    "print(f\"For k=10, there are {comb(26,10)*factorial(10)} nonrepeatwords\")"
   ]
  },
  {
   "cell_type": "code",
   "execution_count": 8,
   "id": "e2fc371c",
   "metadata": {},
   "outputs": [
    {
     "name": "stdout",
     "output_type": "stream",
     "text": [
      "The max value of k is 26, because there are 26 letters in the alphabet, and you cannot repeat any letter in norepeatword\n"
     ]
    }
   ],
   "source": [
    "# 2.2\n",
    "print(\"The max value of k is 26, because there are 26 letters in the alphabet, and you cannot repeat any letter in norepeatword\")"
   ]
  },
  {
   "cell_type": "code",
   "execution_count": 9,
   "id": "dcb6e948",
   "metadata": {},
   "outputs": [
    {
     "name": "stdout",
     "output_type": "stream",
     "text": [
      "For all possible values k, there are 1.0962598503531496e+27 nonrepeatwords\n"
     ]
    }
   ],
   "source": [
    "# 2.3\n",
    "n = np.arange(1,27)\n",
    "sum = 0\n",
    "for i in n:\n",
    "    sum += comb(26,i) * factorial(i)\n",
    "total_possible = sum\n",
    "print(f\"For all possible values k, there are {total_possible} nonrepeatwords\")"
   ]
  },
  {
   "cell_type": "code",
   "execution_count": 10,
   "id": "b90c24ba",
   "metadata": {},
   "outputs": [
    {
     "name": "stdout",
     "output_type": "stream",
     "text": [
      "Probability of choosing a nonrepeat of length 26:  0.3678794411714424\n"
     ]
    }
   ],
   "source": [
    "# 2.4 \n",
    "probability = factorial(26) / total_possible\n",
    "print(\"Probability of choosing a nonrepeat of length 26: \", probability)"
   ]
  },
  {
   "cell_type": "code",
   "execution_count": 11,
   "id": "a1b793e9",
   "metadata": {},
   "outputs": [
    {
     "name": "stdout",
     "output_type": "stream",
     "text": [
      "Difference of probabilty and 1/3 is -5.551115123125783e-17. This is basically 0, so there is essentially no difference between the two.\n"
     ]
    }
   ],
   "source": [
    "# 2.5\n",
    "recp_e = 1 / math.e\n",
    "print(f\"Difference of probabilty and 1/3 is {recp_e - probability}. This is basically 0, so there is essentially no difference between the two.\")\n"
   ]
  },
  {
   "cell_type": "markdown",
   "id": "314972eb",
   "metadata": {},
   "source": [
    "## Problem 3 (15 points)\n",
    "\n",
    "You have a 6-sided die, but it is unbalanced. Instead of each face {1,2,3,4,5,6} having probability $1/6$, the probabilities are `[0.05, 0.1, 0.3, 0.2, 0.05, 0.3]`.\n",
    "\n",
    "\n",
    "- 3.1 Set random seed in numpy as 1, and simulate rolling this unbalanced die 1,000 times. Print out the sequence of these 1000 outcome.\n",
    "- 3.2 Calculate the empirical frequencies of rolling 1,2,3,4,5,6 based on your outcome.\n",
    "\n",
    "- 3.3 Copmare it to the true probability $[0.05, 0.1, 0.3, 0.2, 0.05, 0.3]$. Explain your answers in words."
   ]
  },
  {
   "cell_type": "code",
   "execution_count": 12,
   "id": "39a80209",
   "metadata": {},
   "outputs": [
    {
     "name": "stdout",
     "output_type": "stream",
     "text": [
      "[3 6 1 3 2 2 3 3 3 4 3 5 3 6 1 5 3 4 2 3 6 6 3 5 6 6 2 1 3 6 2 3 6 4 5 3 5\n",
      " 6 1 6 6 6 3 6 2 3 6 3 3 2 1 5 3 3 4 2 4 2 4 5 2 3 5 3 1 4 5 4 6 4 6 2 2 6\n",
      " 3 3 6 3 6 6 6 4 6 3 3 6 3 6 5 4 2 6 3 4 3 3 6 4 1 4 3 4 6 3 6 4 1 6 5 6 3\n",
      " 2 6 5 2 6 6 6 6 2 1 1 1 3 6 4 4 6 2 3 4 6 4 1 6 3 6 3 6 6 4 2 2 2 1 2 3 6\n",
      " 4 1 2 6 4 3 3 6 3 4 6 6 3 4 4 6 3 1 2 4 4 4 3 6 4 3 4 6 5 3 2 3 4 3 6 2 3\n",
      " 6 3 4 4 6 3 2 6 6 6 6 1 3 4 6 6 4 6 4 3 4 4 4 6 6 3 6 3 2 2 4 1 6 6 1 3 3\n",
      " 2 6 3 6 4 6 6 6 4 4 6 3 4 4 1 4 3 6 3 6 4 3 6 4 2 3 5 6 1 6 3 6 4 6 4 4 3\n",
      " 4 6 6 6 5 6 3 5 4 3 3 3 3 4 3 6 5 3 3 3 6 6 6 5 3 3 6 4 6 4 6 4 6 4 4 3 2\n",
      " 3 2 6 3 6 6 5 4 3 4 3 3 4 3 6 6 3 2 3 4 6 3 3 6 3 4 3 2 4 4 3 4 4 5 2 6 3\n",
      " 4 6 1 3 6 6 4 6 6 6 6 2 5 6 4 6 1 6 6 3 3 4 3 6 3 6 6 3 2 6 4 6 4 6 4 4 2\n",
      " 3 1 3 6 1 3 6 5 5 3 3 4 6 3 3 3 6 4 2 4 3 6 3 1 4 6 3 6 4 4 6 6 1 6 4 6 3\n",
      " 3 2 3 2 4 6 5 6 3 6 3 6 4 2 2 1 2 4 2 1 6 3 6 4 4 4 4 6 3 6 1 6 2 4 1 4 1\n",
      " 6 6 6 6 2 3 3 4 6 6 6 6 6 3 3 3 2 6 2 3 6 3 6 3 4 3 6 3 3 4 6 1 6 6 1 4 3\n",
      " 6 4 5 4 4 3 1 4 3 4 6 3 3 3 6 6 6 6 3 2 3 3 3 4 3 6 3 6 3 4 3 2 3 5 4 4 3\n",
      " 4 6 6 4 6 6 4 1 2 2 4 3 6 3 6 6 6 4 5 4 1 3 4 6 4 4 2 1 6 3 6 3 3 4 6 4 2\n",
      " 3 4 5 6 2 1 4 6 1 5 5 3 6 4 1 4 6 6 4 5 4 3 4 5 3 6 3 6 3 6 3 6 3 3 6 3 6\n",
      " 6 3 3 3 2 3 1 2 5 6 2 3 3 6 6 4 3 6 3 6 6 4 2 6 3 3 3 3 2 6 3 4 6 3 4 6 4\n",
      " 4 3 6 6 3 6 2 6 3 3 3 2 6 3 4 4 2 3 2 4 3 3 2 6 2 6 3 4 1 6 3 4 6 2 4 3 6\n",
      " 6 3 6 1 6 4 3 6 6 6 3 1 6 6 6 4 6 6 3 6 6 4 3 5 1 6 6 3 2 3 3 6 4 3 2 3 4\n",
      " 3 4 3 6 3 3 5 3 4 3 4 6 3 6 4 5 2 3 6 4 6 4 4 6 2 4 6 4 3 6 3 6 4 6 4 6 1\n",
      " 6 2 3 6 1 6 6 3 3 6 4 2 6 6 4 6 3 5 3 4 3 6 3 2 2 1 6 4 6 4 6 5 6 3 4 3 3\n",
      " 3 3 3 3 6 3 6 4 3 6 4 3 6 3 3 3 5 3 6 3 4 4 6 6 3 4 6 3 6 3 4 5 3 1 3 6 3\n",
      " 6 3 3 2 6 5 5 3 5 3 3 3 3 2 4 6 4 4 3 2 4 6 3 4 3 4 3 3 3 6 6 3 4 2 4 3 6\n",
      " 5 4 2 4 6 6 4 3 4 4 4 3 4 6 6 4 6 2 6 2 3 3 2 4 1 3 2 6 5 3 3 6 3 6 4 4 1\n",
      " 4 3 3 3 3 4 6 3 6 4 6 3 3 6 1 6 4 3 6 2 4 1 4 3 4 6 6 4 6 6 4 4 3 3 2 6 4\n",
      " 3 6 4 3 3 2 3 1 3 4 6 2 5 4 6 2 2 3 6 3 6 3 3 1 3 3 5 2 3 1 2 5 3 3 4 6 6\n",
      " 5 6 1 2 4 3 6 4 4 6 3 6 3 3 3 4 3 5 2 2 6 3 3 4 4 2 6 6 6 3 4 3 4 6 3 5 3\n",
      " 6]\n"
     ]
    }
   ],
   "source": [
    "# 3.1\n",
    "np.random.seed(1)\n",
    "n = 1000\n",
    "list_gen = np.random.choice([1,2,3,4,5,6], n, p = [0.05,0.1,0.3,0.2,0.05,0.3])\n",
    "print(list_gen)"
   ]
  },
  {
   "cell_type": "code",
   "execution_count": 13,
   "id": "002b303f",
   "metadata": {},
   "outputs": [
    {
     "name": "stdout",
     "output_type": "stream",
     "text": [
      "Empirical Frequencies:\n",
      "Number of 1s: 57 \n",
      "Number of 2s: 97 \n",
      "Number of 3s: 292 \n",
      "Number of 4s: 206 \n",
      "Number of 5s: 51 \n",
      "Number of 6s: 297\n"
     ]
    }
   ],
   "source": [
    "# 3.2\n",
    "num_ones = np.count_nonzero(list_gen == 1)\n",
    "num_twos = np.count_nonzero(list_gen == 2)\n",
    "num_threes = np.count_nonzero(list_gen == 3)\n",
    "num_fours = np.count_nonzero(list_gen == 4)\n",
    "num_fives = np.count_nonzero(list_gen == 5)\n",
    "num_sixes = np.count_nonzero(list_gen == 6)\n",
    "print(f\"Empirical Frequencies:\\nNumber of 1s: {num_ones} \\nNumber of 2s: {num_twos} \\nNumber of 3s: {num_threes} \\nNumber of 4s: {num_fours} \\nNumber of 5s: {num_fives} \\nNumber of 6s: {num_sixes}\")"
   ]
  },
  {
   "cell_type": "code",
   "execution_count": 14,
   "id": "a20a8d47",
   "metadata": {},
   "outputs": [
    {
     "name": "stdout",
     "output_type": "stream",
     "text": [
      "Probability of 1: 0.057 vs Actual of 0.05 \n",
      "Probability of 2: 0.097 vs Actual of 0.1\n",
      "Probability of 3: 0.292 vs Actual of 0.3\n",
      "Probability of 4: 0.206 vs Actual of 0.2\n",
      "Probability of 5: 0.051 vs Actual of 0.05\n",
      "Probability of 6: 0.297 vs Actual of 0.3\n"
     ]
    }
   ],
   "source": [
    "# 3.3\n",
    "prob_one = num_ones / n\n",
    "prob_two = num_twos / n\n",
    "prob_three = num_threes / n\n",
    "prob_four = num_fours / n\n",
    "prob_five = num_fives / n\n",
    "prob_six = num_sixes / n\n",
    "# .05,0.1,0.3,0.2,0.05,0.3\n",
    "print(f\"Probability of 1: {prob_one} vs Actual of 0.05 \\nProbability of 2: {prob_two} vs Actual of 0.1\\nProbability of 3: {prob_three} vs Actual of 0.3\\nProbability of 4: {prob_four} vs Actual of 0.2\\nProbability of 5: {prob_five} vs Actual of 0.05\\nProbability of 6: {prob_six} vs Actual of 0.3\")"
   ]
  },
  {
   "cell_type": "markdown",
   "id": "13e09092",
   "metadata": {},
   "source": [
    "The empiricial probabilities are very close to the actual probabilities, but not quite equal. This is because the more trials you run, the closer the empirical probabilities will be to the actual probabilities. If we each trial had 10,000 or 100,000 rolls for each simulation, the empirical probabilities would be very close to the actual probabilities."
   ]
  },
  {
   "cell_type": "markdown",
   "id": "ffa22c7e",
   "metadata": {},
   "source": [
    "## Problem 4 (15 points)\n",
    "\n",
    "A knock-out tournament is being held with $2^n$ tennis players. This means that for each round, the winners move on to the next round and the losers are eliminated, until only one person remains. For example, if initially there are $2^4$ = 16 players, then there are 8 games in the first round, then the 8 winners move on to round 2, then the 4 winners move on to round 3, then the 2 winners move on to round 4, the winner of which is declared the winner of the tournament. (There are various systems for determining who plays whom within a round, but these do not matter for this problem.) \n",
    "\n",
    "\n",
    "- 4.1 Suppose there are 32 players. You have a 80% probability of winning each game. What is the probability that you become the champion?\n",
    "\n",
    "- 4.2 Repeat Problem 4.1 but now you have 90% probability of winning each game.\n",
    "\n",
    "- 4.3 Create a line plot where the x-axis represents the probability of winning each game and the y-axis represents the probability of becoming the champion."
   ]
  },
  {
   "cell_type": "code",
   "execution_count": 15,
   "id": "360b7240",
   "metadata": {},
   "outputs": [
    {
     "name": "stdout",
     "output_type": "stream",
     "text": [
      "Probability of becoming champion (or winning 5 rounds in a row), given an 80% probability to win each game, is 0.3276800000000001\n"
     ]
    }
   ],
   "source": [
    "# 4.1\n",
    "rounds = math.log(32, 2)\n",
    "probability = math.pow(0.8,rounds)\n",
    "print(f\"Probability of becoming champion (or winning 5 rounds in a row), given an 80% probability to win each game, is {probability}\")"
   ]
  },
  {
   "cell_type": "code",
   "execution_count": 16,
   "id": "de62dd1c",
   "metadata": {},
   "outputs": [
    {
     "name": "stdout",
     "output_type": "stream",
     "text": [
      "Probability of becoming champion (or winning 5 rounds in a row), given a 90% probability to win each game, is 0.5904900000000001\n"
     ]
    }
   ],
   "source": [
    "# 4.2\n",
    "rounds = math.log(32, 2)\n",
    "probability = math.pow(0.9,rounds)\n",
    "print(f\"Probability of becoming champion (or winning 5 rounds in a row), given a 90% probability to win each game, is {probability}\")"
   ]
  },
  {
   "cell_type": "code",
   "execution_count": 17,
   "id": "0cdd670a",
   "metadata": {},
   "outputs": [
    {
     "data": {
      "text/plain": [
       "Text(0.5, 1.0, 'Probability of becoming champion vs Probability of winning a game')"
      ]
     },
     "execution_count": 17,
     "metadata": {},
     "output_type": "execute_result"
    },
    {
     "data": {
      "image/png": "[encoded data removed]",
      "text/plain": [
       "<Figure size 640x480 with 1 Axes>"
      ]
     },
     "metadata": {},
     "output_type": "display_data"
    }
   ],
   "source": [
    "# 4.3\n",
    "#line plot where x-axis is the probability of winning a game and y-axis is the probability of becoming champion\n",
    "probabilities = np.arange(0.5,1.01,0.01)\n",
    "champion_probabilities = []\n",
    "for prob in probabilities:\n",
    "    rounds = math.log(32, 2)\n",
    "    probability = math.pow(prob,rounds)\n",
    "    champion_probabilities.append(probability)\n",
    "\n",
    "plt.plot(probabilities, champion_probabilities)\n",
    "plt.xlabel(\"Probability of winning a game\")\n",
    "plt.ylabel(\"Probability of becoming champion\")\n",
    "plt.title(\"Probability of becoming champion vs Probability of winning a game\")"
   ]
  },
  {
   "cell_type": "code",
   "execution_count": null,
   "id": "472eb91e",
   "metadata": {},
   "outputs": [],
   "source": []
  }
 ],
 "metadata": {
  "hide_input": false,
  "kernelspec": {
   "display_name": "Python 3",
   "language": "python",
   "name": "python3"
  },
  "language_info": {
   "codemirror_mode": {
    "name": "ipython",
    "version": 3
   },
   "file_extension": ".py",
   "mimetype": "text/x-python",
   "name": "python",
   "nbconvert_exporter": "python",
   "pygments_lexer": "ipython3",
   "version": "3.13.1"
  }
 },
 "nbformat": 4,
 "nbformat_minor": 5
}
