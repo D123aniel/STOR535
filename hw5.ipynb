{
 "cells": [
  {
   "cell_type": "code",
   "execution_count": 2,
   "metadata": {},
   "outputs": [],
   "source": [
    "from scipy.special import comb\n",
    "import numpy as np"
   ]
  },
  {
   "cell_type": "code",
   "execution_count": 3,
   "metadata": {},
   "outputs": [
    {
     "name": "stdout",
     "output_type": "stream",
     "text": [
      "[500. 250. 200. 125. 100.]\n",
      "[ 2.  4.  5.  8. 10.]\n"
     ]
    }
   ],
   "source": [
    "n = 1000\n",
    "group_size = np.array([2.0,4.0,5.0,8.0,10.0])\n",
    "num_groups = 1000/group_size\n",
    "print(num_groups)\n",
    "print(group_size)"
   ]
  },
  {
   "cell_type": "code",
   "execution_count": 4,
   "metadata": {},
   "outputs": [],
   "source": [
    "def prob_positive(group_size):\n",
    "    return 1 - comb(group_size, 0) * .05**0 * .95**group_size"
   ]
  },
  {
   "cell_type": "code",
   "execution_count": 7,
   "metadata": {},
   "outputs": [
    {
     "name": "stdout",
     "output_type": "stream",
     "text": [
      "Group size: 2.0, Positive: 0.09750000000000003, Num tests: 597.5\n",
      "Group size: 4.0, Positive: 0.18549375000000012, Num tests: 435.49375000000015\n",
      "Group size: 5.0, Positive: 0.22621906250000023, Num tests: 426.21906250000023\n",
      "Group size: 8.0, Positive: 0.33657956871093775, Num tests: 461.57956871093774\n",
      "Group size: 10.0, Positive: 0.4012630607616213, Num tests: 501.2630607616213\n"
     ]
    }
   ],
   "source": [
    "for i in range(5):\n",
    "    positive = prob_positive(group_size[i])\n",
    "    num_tests = ((group_size[i] + 1) * positive + (1-positive)) * num_groups[i]\n",
    "    print(f\"Group size: {group_size[i]}, Positive: {positive}, Num tests: {num_tests}\")"
   ]
  },
  {
   "cell_type": "code",
   "execution_count": null,
   "metadata": {},
   "outputs": [],
   "source": []
  }
 ],
 "metadata": {
  "kernelspec": {
   "display_name": "Python 3",
   "language": "python",
   "name": "python3"
  },
  "language_info": {
   "codemirror_mode": {
    "name": "ipython",
    "version": 3
   },
   "file_extension": ".py",
   "mimetype": "text/x-python",
   "name": "python",
   "nbconvert_exporter": "python",
   "pygments_lexer": "ipython3",
   "version": "3.11.9"
  }
 },
 "nbformat": 4,
 "nbformat_minor": 2
}
